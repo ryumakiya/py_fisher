{
 "cells": [
  {
   "cell_type": "code",
   "execution_count": 1,
   "metadata": {
    "ExecuteTime": {
     "end_time": "2020-02-24T13:09:37.394817Z",
     "start_time": "2020-02-24T13:09:37.088722Z"
    },
    "collapsed": true
   },
   "outputs": [],
   "source": [
    "%matplotlib inline\n",
    "%config InlineBackend.figure_formats = {'png', 'retina'}\n",
    "import numpy as np\n",
    "import matplotlib.pylab as plt\n",
    "from classy import Class\n",
    "import sys,os\n",
    "from scipy import interpolate as ip\n",
    "from scipy import integrate"
   ]
  },
  {
   "cell_type": "code",
   "execution_count": 2,
   "metadata": {
    "ExecuteTime": {
     "end_time": "2020-02-24T13:09:37.927546Z",
     "start_time": "2020-02-24T13:09:37.920967Z"
    },
    "collapsed": true
   },
   "outputs": [],
   "source": [
    "HOMEDIR = (os.path.expanduser('~'))+'/Dropbox/pk_fisher'\n",
    "bias_terms = np.loadtxt('./bias_terms.txt')\n",
    "pb22_ip = ip.interp1d(bias_terms[:,0],bias_terms[:,1])\n",
    "pb2delta_ip = ip.interp1d(bias_terms[:,0],bias_terms[:,2])\n",
    "pb2theta_ip = ip.interp1d(bias_terms[:,0],bias_terms[:,3])"
   ]
  },
  {
   "cell_type": "code",
   "execution_count": 3,
   "metadata": {
    "ExecuteTime": {
     "end_time": "2020-02-24T13:09:39.670937Z",
     "start_time": "2020-02-24T13:09:39.666109Z"
    },
    "collapsed": true
   },
   "outputs": [],
   "source": [
    "# fiducial parameters\n",
    "obh2_fid = 0.02225\n",
    "och2_fid = 0.1198\n",
    "theta_fid = 1.04077\n",
    "lnAs_fid = 3.094\n",
    "As_fid = np.exp(lnAs_fid)*1e-10\n",
    "ns_fid = 0.9645\n",
    "mnu_fid = 0.06\n",
    "h0_fid = 0.6703234\n",
    "om0_fid = (obh2_fid+och2_fid+mnu_fid/93.14)/h0_fid**2\n",
    "ode0_fid = 1.0-om0_fid\n",
    "b2_fid = 0.0\n",
    "sigma_fid = 1.0\n",
    "w_fid = -1.0\n",
    "\n",
    "zmax = 5.0\n",
    "kmin = 1e-2\n",
    "kmax = 0.5"
   ]
  },
  {
   "cell_type": "code",
   "execution_count": 4,
   "metadata": {
    "ExecuteTime": {
     "end_time": "2020-02-24T13:09:44.182744Z",
     "start_time": "2020-02-24T13:09:43.676604Z"
    },
    "collapsed": true
   },
   "outputs": [],
   "source": [
    "cosmo_fid = Class()\n",
    "pars_fid = {'100*theta_s':theta_fid,'omega_b':obh2_fid,'omega_cdm':och2_fid,\\\n",
    "              'A_s':As_fid,'n_s':ns_fid,'m_ncdm':mnu_fid/3.,\\\n",
    "              'P_k_max_h/Mpc':kmax,'z_max_pk':zmax,\\\n",
    "              'output':'mPk','N_ur':0.00641,'N_ncdm':1,\\\n",
    "              'T_ncdm':0.71611,'deg_ncdm':3.}\n",
    "cosmo_fid.set(pars_fid)\n",
    "cosmo_fid.compute()\n",
    "\n",
    "kh_arr = np.logspace(np.log10(kmin),np.log10(kmax),1000)\n",
    "nk = 19\n",
    "del_k = 0.01\n",
    "kh_out = np.array([0.02+i*del_k for i in range(0,nk)])\n",
    "kh_out_02 = np.tile(kh_out,2)"
   ]
  },
  {
   "cell_type": "markdown",
   "metadata": {},
   "source": [
    "# Functions"
   ]
  },
  {
   "cell_type": "code",
   "execution_count": 5,
   "metadata": {
    "ExecuteTime": {
     "end_time": "2020-02-24T13:09:46.886747Z",
     "start_time": "2020-02-24T13:09:46.882601Z"
    },
    "code_folding": [
     0
    ],
    "collapsed": true
   },
   "outputs": [],
   "source": [
    "# Legendre polynomical\n",
    "def Leg(l,mu):\n",
    "    if l == 0:\n",
    "        return 1.\n",
    "    elif l == 2:\n",
    "        return 0.5*(3.0*mu**2-1.0) \n",
    "    else:\n",
    "        print('l should be 0 or 2!')\n",
    "        return None"
   ]
  },
  {
   "cell_type": "code",
   "execution_count": 6,
   "metadata": {
    "ExecuteTime": {
     "end_time": "2020-02-24T13:09:47.558483Z",
     "start_time": "2020-02-24T13:09:47.539624Z"
    },
    "code_folding": [
     0,
     24
    ],
    "collapsed": true
   },
   "outputs": [],
   "source": [
    "def calc_pkmu(mu,k,b1,b2,sigma,As,alp_per,alp_para,rd_ratio,growth_ip,mpk0,mpkz):\n",
    "    F = alp_para/alp_per\n",
    "    fac = 1.0/alp_per**2/alp_para*rd_ratio**3\n",
    "    r_kp = 1.0\n",
    "    \n",
    "    kp = k/alp_per*(1.0+mu**2*(1.0/F**2-1.0))**0.5\n",
    "    mup = mu/F*(1.0+mu**2*(1.0/F**2-1.0))**(-0.5)\n",
    "    \n",
    "    growth_kp = growth_ip(kp)\n",
    "    As_fid_pb = np.exp(3.094)*1e-10\n",
    "    pb_norm = (As/As_fid_pb)**2.0*(mpkz(kp)/mpk0(kp))\n",
    "    pb22 = pb22_ip(kp)*pb_norm**2\n",
    "    pb2delta = pb2delta_ip(kp)*pb_norm**2\n",
    "    pb2theta = pb2theta_ip(kp)*pb_norm**2\n",
    "\n",
    "    mpk = mpkz(kp)\n",
    "    Pgg = b1**2*mpk+2*b2*b1*pb2delta+b2**2*pb22\n",
    "    Pgm = b1*r_kp*mpk+b2*pb2theta\n",
    "    \n",
    "    pkmu = (Pgg+2.0*growth_kp*mup**2.0*Pgm+growth_kp**2.0*mup**4.0*mpk) \\\n",
    "          *np.exp(-(growth_kp*kp*mup*sigma)**2) \\\n",
    "          *fac\n",
    "    return pkmu\n",
    "\n",
    "def calc_pk02(k,ell,pars):\n",
    "    ans, tmp = integrate.quad(lambda mu: calc_pkmu(mu,k,*pars)*Leg(ell,mu),0.0,1.0)\n",
    "    ans = 2*ans*(2*ell+1)/2.\n",
    "    return ans"
   ]
  },
  {
   "cell_type": "code",
   "execution_count": 7,
   "metadata": {
    "ExecuteTime": {
     "end_time": "2020-02-24T13:09:58.016712Z",
     "start_time": "2020-02-24T13:09:57.988518Z"
    },
    "code_folding": [],
    "collapsed": true
   },
   "outputs": [],
   "source": [
    "def calc_pkmu_deriv_bias(mu,k,b1,b2,sigma,As,alp_per,alp_para,rd_ratio,growth_ip,mpk0,mpkz,key):\n",
    "    F = alp_para/alp_per\n",
    "    fac = 1.0/alp_per**2/alp_para*rd_ratio**3\n",
    "    r_kp = 1.0\n",
    "    \n",
    "    kp = k/alp_per*(1.0+mu**2*(1.0/F**2-1.0))**0.5\n",
    "    mup = mu/F*(1.0+mu**2*(1.0/F**2-1.0))**(-0.5)\n",
    "    \n",
    "    growth_kp = growth_ip(kp)\n",
    "    pb_norm = (As/As_fid)**2.0*(mpkz(kp)/mpk0(kp))\n",
    "    pb22 = pb22_ip(kp)*pb_norm**2\n",
    "    pb2delta = pb2delta_ip(kp)*pb_norm**2\n",
    "    pb2theta = pb2theta_ip(kp)*pb_norm**2\n",
    "\n",
    "    mpk = mpkz(kp)\n",
    "    if key == 'b1':\n",
    "        Pgg = 2*b1*mpk+2*b2*pb2delta\n",
    "        Pgm = r_kp*mpk\n",
    "        pkmu_deriv = (Pgg+2.0*growth_kp*mup**2.0*Pgm) \\\n",
    "              *np.exp(-(growth_kp*kp*mup*sigma)**2) \\\n",
    "              *fac        \n",
    "    elif key == 'b2':\n",
    "        Pgg = 2*b1*pb2delta+2*b2*pb22\n",
    "        Pgm = pb2theta\n",
    "        pkmu_deriv = (Pgg+2.0*growth_kp*mup**2.0*Pgm) \\\n",
    "              *np.exp(-(growth_kp*kp*mup*sigma)**2) \\\n",
    "              *fac\n",
    "    elif key == 'sigma':\n",
    "        Pgg = b1**2*mpk+2*b2*b1*pb2delta+b2**2*pb22\n",
    "        Pgm = b1*r_kp*mpk+b2*pb2theta\n",
    "        pkmu_deriv = (Pgg+2.0*growth_kp*mup**2.0*Pgm+growth_kp**2.0*mup**4.0*mpk) \\\n",
    "              *np.exp(-(growth_kp*kp*mup*sigma)**2) \\\n",
    "              *(-2*(growth_kp*kp*mup)**2*sigma) \\\n",
    "              *fac\n",
    "    else:\n",
    "        print('key error')\n",
    "        return None\n",
    "    return pkmu_deriv\n",
    "\n",
    "def calc_pk02_deriv_bias(k,ell,pars,key):\n",
    "    ans, tmp = integrate.quad(lambda mu: calc_pkmu_deriv_bias(mu,k,*pars,key)*Leg(ell,mu),0.0,1.0)\n",
    "    ans = 2*ans*(2*ell+1)/2.\n",
    "    return ans"
   ]
  },
  {
   "cell_type": "code",
   "execution_count": 8,
   "metadata": {
    "ExecuteTime": {
     "end_time": "2020-02-24T13:10:14.357177Z",
     "start_time": "2020-02-24T13:10:14.325094Z"
    },
    "code_folding": [],
    "collapsed": true
   },
   "outputs": [],
   "source": [
    "# set paramaeter array for pk calculation\n",
    "def set_params_pk(z,cosmo,obh2,och2,theta,lnAs,ns,mnu,b1,b2,sigma):\n",
    "    def calc_growth_and_mpk(z,cosmo):\n",
    "        # growth rate\n",
    "        h0 = cosmo.h()\n",
    "        a = 1./(1+z)\n",
    "        del_a = 0.01\n",
    "        pk0 = np.array([cosmo.pk(k*h0,0.0)*h0**3 for k in kh_arr])\n",
    "        pkz = np.array([cosmo.pk(k*h0,z)*h0**3 for k in kh_arr])\n",
    "        pkz1 = np.array([cosmo.pk(k*h0,1./(a+del_a)-1)*h0**3 for k in kh_arr])\n",
    "        pkz2 = np.array([cosmo.pk(k*h0,1./(a-del_a)-1)*h0**3 for k in kh_arr])\n",
    "        Dz1 = np.sqrt(pkz1/pk0)\n",
    "        Dz2 = np.sqrt(pkz2/pk0)\n",
    "        Dz = np.sqrt(pkz/pk0)\n",
    "        growth = (Dz1-Dz2)/(2*del_a)*(a/Dz)\n",
    "\n",
    "        growth_ip = ip.interp1d(kh_arr,growth)\n",
    "        mpk0_ip = ip.interp1d(kh_arr,pk0)\n",
    "        mpkz_ip = ip.interp1d(kh_arr,pkz)\n",
    "\n",
    "        return growth_ip, mpk0_ip, mpkz_ip\n",
    "    \n",
    "    def get_AP_params(z,cosmo,obh2,och2,mnu):\n",
    "        w = -1\n",
    "        h0 = cosmo.h()\n",
    "        h0_fid = cosmo_fid.h()\n",
    "        om0 = (och2+obh2+mnu/93.14)/h0**2\n",
    "        ode0 = 1.0-om0\n",
    "        \n",
    "        # AP parameters\n",
    "        rd_fid = cosmo_fid.get_current_derived_parameters(['rs_d'])['rs_d']\n",
    "        da_fid = cosmo_fid.angular_distance(z)\n",
    "        Hz_fid = h0_fid*np.sqrt(om0_fid*(1.+z)**3.0+ode0_fid*(1.+z)**(3.0+3.0*w))\n",
    "        rd = cosmo.get_current_derived_parameters(['rs_d'])['rs_d']\n",
    "        da = cosmo.angular_distance(z)\n",
    "        Hz = h0*np.sqrt(om0*(1.+z)**3.0+ode0*(1+z)**(3.0+3.0*w))\n",
    "        alp_per = (da/da_fid)*(rd_fid/rd)\n",
    "        alp_para = (Hz_fid/Hz)*(rd_fid/rd)\n",
    "        rd_ratio = rd_fid/rd\n",
    "        return alp_per,alp_para,rd_ratio\n",
    "    \n",
    "    pars_cosmo = {'100*theta_s':theta,'omega_b':obh2,'omega_cdm':och2,\\\n",
    "              'A_s':np.exp(lnAs)*1e-10,'n_s':ns,'m_ncdm':mnu/3.,\\\n",
    "              'P_k_max_h/Mpc':kmax,'z_max_pk':zmax,\\\n",
    "              'output':'mPk','N_ur':0.00641,'N_ncdm':1,\\\n",
    "              'T_ncdm':0.71611,'deg_ncdm':3.}\n",
    "    cosmo.set(pars_cosmo)\n",
    "    cosmo.compute()\n",
    "    growth_ip, mpk0_ip, mpkz_ip = calc_growth_and_mpk(z,cosmo)\n",
    "    alp_per,alp_para,rd_ratio = get_AP_params(z,cosmo,obh2,och2,mnu)\n",
    "\n",
    "    pars_pk = [b1,b2,sigma,np.exp(lnAs)*1e-10,alp_per,alp_para,rd_ratio,growth_ip,mpk0_ip,mpkz_ip]\n",
    "    return pars_pk"
   ]
  },
  {
   "cell_type": "code",
   "execution_count": 9,
   "metadata": {
    "ExecuteTime": {
     "end_time": "2020-02-24T13:10:14.924499Z",
     "start_time": "2020-02-24T13:10:14.904991Z"
    },
    "code_folding": [],
    "collapsed": true
   },
   "outputs": [],
   "source": [
    "# get pk derivative\n",
    "def get_pk02_deriv_all(z,cosmo):\n",
    "    w = -1\n",
    "    b1_fid = 0.9+0.4*z\n",
    "    nparams_cosmo = 6\n",
    "    nparams = nparams_cosmo+3 # cosmo params + b1, b2, sigma\n",
    "    pk_deriv = np.zeros((nk*2,nparams))\n",
    "    pars_delta = np.array([0.001,0.0025,0.005,0.05,0.01,0.02]) # for cosmological params\n",
    "    pars_fid = np.array([obh2_fid,och2_fid,theta_fid,lnAs_fid,ns_fid,mnu_fid])\n",
    "    \n",
    "    # derivative of cosmological parameters\n",
    "    for i in range(nparams_cosmo):\n",
    "        delta = np.zeros(nparams_cosmo)\n",
    "        delta[i] = pars_delta[i]\n",
    "        # fid+\n",
    "        pars = pars_fid+delta\n",
    "        pars_pk = set_params_pk(z,cosmo,*pars,b1_fid,b2_fid,sigma_fid)\n",
    "        pk_plus = np.r_[np.array([calc_pk02(k,0,pars_pk) for k in kh_out]),\n",
    "                    np.array([calc_pk02(k,2,pars_pk) for k in kh_out])]\n",
    "        # fid-\n",
    "        pars = pars_fid-delta\n",
    "        pars_pk = set_params_pk(z,cosmo,*pars,b1_fid,b2_fid,sigma_fid)\n",
    "        pk_minus = np.r_[np.array([calc_pk02(k,0,pars_pk) for k in kh_out]),\n",
    "                    np.array([calc_pk02(k,2,pars_pk) for k in kh_out])]\n",
    "        pk_deriv[:,i] = (pk_plus-pk_minus)/(2.*delta[i])\n",
    "        \n",
    "    # derivative of b1, b2 and sigma\n",
    "    pars = pars_fid\n",
    "    pars_pk = set_params_pk(z,cosmo,*pars,b1_fid,b2_fid,sigma_fid)\n",
    "    pk_deriv[:,nparams_cosmo+0] = np.r_[np.array([calc_pk02_deriv_bias(k,0,pars_pk,'b1') for k in kh_out]),\n",
    "                                        np.array([calc_pk02_deriv_bias(k,2,pars_pk,'b1') for k in kh_out])]\n",
    "    pk_deriv[:,nparams_cosmo+1] = np.r_[np.array([calc_pk02_deriv_bias(k,0,pars_pk,'b2') for k in kh_out]),\n",
    "                                        np.array([calc_pk02_deriv_bias(k,2,pars_pk,'b2') for k in kh_out])]\n",
    "    pk_deriv[:,nparams_cosmo+2] = np.r_[np.array([calc_pk02_deriv_bias(k,0,pars_pk,'sigma') for k in kh_out]),\n",
    "                                        np.array([calc_pk02_deriv_bias(k,2,pars_pk,'sigma') for k in kh_out])]\n",
    "    return pk_deriv"
   ]
  },
  {
   "cell_type": "code",
   "execution_count": 24,
   "metadata": {
    "ExecuteTime": {
     "end_time": "2020-02-24T13:21:13.654527Z",
     "start_time": "2020-02-24T13:21:13.636412Z"
    },
    "code_folding": [],
    "collapsed": true
   },
   "outputs": [],
   "source": [
    "def calc_cov(k,l1,l2,nbar,pars):\n",
    "    def cov_integrant(mu,k,l1,l2,nbar,pars):\n",
    "        ans = Leg(l1,mu)*Leg(l2,mu)\n",
    "        ans = ans*(calc_pkmu(mu,k,*pars)+1./nbar)**2.\n",
    "        return ans\n",
    "    ans, tmp = integrate.quad(lambda mu: cov_integrant(mu,k,l1,l2,nbar,pars),0.0,1.0)\n",
    "    ans = ans*(2*l1+1)*(2*l2+1)\n",
    "    return ans\n",
    "\n",
    "def get_cov(z,cosmo,nbar):\n",
    "    b1_fid = 0.9+0.4*z\n",
    "    pars_fid = [obh2_fid,och2_fid,theta_fid,lnAs_fid,ns_fid,mnu_fid]\n",
    "    pars_pk = set_params_pk(z,cosmo,*pars_fid,b1_fid,b2_fid,sigma_fid)\n",
    "    # calc cov\n",
    "    cov = np.zeros((nk*2,nk*2))\n",
    "    for i in range(nk):\n",
    "        for il1 in [0,1]:\n",
    "            for il2 in [0,1]:\n",
    "                l1 = il1*2\n",
    "                l2 = il2*2\n",
    "                cov[i+nk*il1,i+nk*il2] = calc_cov(kh_out[i],l1,l2,nbar,pars_pk)\n",
    "    return cov"
   ]
  },
  {
   "cell_type": "code",
   "execution_count": 18,
   "metadata": {
    "ExecuteTime": {
     "end_time": "2020-02-24T13:15:40.023358Z",
     "start_time": "2020-02-24T13:15:40.010453Z"
    },
    "code_folding": [],
    "collapsed": true
   },
   "outputs": [],
   "source": [
    "def calc_fisher(z,cosmo,b1_fid,ngal,vol):\n",
    "    def calc_fisher_ij(i,j,pk_deriv,inv_cov):\n",
    "        pk_deriv_i = pk_deriv[:,i]*del_k**0.5*kh_out_02\n",
    "        pk_deriv_j = pk_deriv[:,j]*del_k**0.5*kh_out_02\n",
    "        ans = np.dot(pk_deriv_i,np.dot(inv_cov,pk_deriv_j))\n",
    "        return np.sum(ans)\n",
    "\n",
    "    nbar = ngal/vol\n",
    "    # b1_fid = 0.9+0.4*z # PFS\n",
    "    nparams_cosmo = 6\n",
    "    nparams = nparams_cosmo+3 # cosmo params + b1, b2, sigma\n",
    "    fisher = np.zeros((nparams,nparams))\n",
    "    # covariance\n",
    "    cov = get_cov(z,cosmo,nbar)\n",
    "    inv_cov = np.linalg.inv(cov)\n",
    "    # pk derivative\n",
    "    pk_deriv = get_pk02_deriv_all(z,cosmo)\n",
    "    for i in range(nparams):\n",
    "        for j in range(nparams):\n",
    "            fisher[i,j] = calc_fisher_ij(i,j,pk_deriv,inv_cov)\n",
    "    fisher = fisher*vol/4./np.pi**2\n",
    "    return fisher"
   ]
  },
  {
   "cell_type": "markdown",
   "metadata": {},
   "source": [
    "# Calculation"
   ]
  },
  {
   "cell_type": "code",
   "execution_count": 21,
   "metadata": {
    "ExecuteTime": {
     "end_time": "2020-02-24T13:20:50.685288Z",
     "start_time": "2020-02-24T13:20:50.676370Z"
    },
    "collapsed": true
   },
   "outputs": [],
   "source": [
    "# PFS\n",
    "# nz = 7\n",
    "# z_arr = np.array([0.7,0.9,1.1,1.3,1.5,1.8,2.2])\n",
    "# b1_arr = np.array([0.9+0.4*z for z in z_arr])\n",
    "# vol_arr = np.array([0.59,0.79,0.96,1.09,1.19,2.58,2.71])*1e9\n",
    "# nbar_arr = np.array([1.9,6.0,5.8,7.8,5.5,3.1,2.7])*1e-4 #/2.\n",
    "# ngal_arr = vol_arr*nbar_arr\n",
    "\n",
    "nz = 5\n",
    "z_arr = np.array([0.7,0.9,1.1,1.3,1.5])\n",
    "b1_arr = np.array([1.21,1.33,1.45,1.57,1.70])\n",
    "vol_arr = np.array([5.2,6.8,8.0,9.0,9.8])*1e9\n",
    "nbar_arr = np.array([5.9,7.3,4.2,2.5,0.53])*1e-4\n",
    "ngal_arr = vol_arr*nbar_arr"
   ]
  },
  {
   "cell_type": "code",
   "execution_count": 25,
   "metadata": {
    "ExecuteTime": {
     "end_time": "2020-02-24T13:27:26.928507Z",
     "start_time": "2020-02-24T13:21:16.384097Z"
    },
    "collapsed": true
   },
   "outputs": [],
   "source": [
    "# for i in range(10):\n",
    "#     comp = 0.1+0.1*i\n",
    "#     fisher_iz = np.zeros((9,9,nz))\n",
    "#     for iz in range(nz):\n",
    "#         cosmo = Class()\n",
    "#         fisher_iz[:,:,iz] = calc_fisher(z_arr[iz],cosmo,ngal_arr[iz]*comp,vol_arr[iz]*comp)\n",
    "#         cosmo.struct_cleanup()\n",
    "# #         np.savetxt(HOMEDIR+'/pfs/fisher_comp'+'{:0.2f}'.format(comp)+'_iz'+str(iz)+'_ngal0p5.txt',fisher_iz[:,:,iz])\n",
    "#         np.savetxt(HOMEDIR+'/pfs/fisher_comp'+'{:0.2f}'.format(comp)+'_iz'+str(iz)+'.txt',fisher_iz[:,:,iz])\n",
    "    \n",
    "# DESI\n",
    "for i in range(5):\n",
    "    comp = 0.2+0.2*i\n",
    "    fisher_iz = np.zeros((9,9,nz))\n",
    "    for iz in range(nz):\n",
    "        cosmo = Class()\n",
    "        fisher_iz[:,:,iz] = calc_fisher(z_arr[iz],cosmo,b1_arr[iz],ngal_arr[iz]*comp,vol_arr[iz]*comp)\n",
    "        cosmo.struct_cleanup()\n",
    "        np.savetxt(HOMEDIR+'/desi/fisher_comp'+'{:0.2f}'.format(comp)+'_iz'+str(iz)+'.txt',fisher_iz[:,:,iz])"
   ]
  },
  {
   "cell_type": "code",
   "execution_count": 26,
   "metadata": {
    "ExecuteTime": {
     "end_time": "2020-02-24T13:34:26.432678Z",
     "start_time": "2020-02-24T13:34:26.420225Z"
    },
    "collapsed": true
   },
   "outputs": [],
   "source": [
    "def fisher_merge(fisher_iz,nz):\n",
    "    nparam = 6+3\n",
    "    nparam_allz = 6+3*nz\n",
    "    fisher_allz = np.zeros((nparam_allz,nparam_allz))\n",
    "    for iz in range(nz):\n",
    "        for ip1 in range(nparam):\n",
    "            ip1p = ip1\n",
    "            if ip1 > 5: ip1p = ip1+3*iz\n",
    "            for ip2 in range(nparam):\n",
    "                ip2p = ip2\n",
    "                if ip2 > 5: ip2p = ip2+3*iz\n",
    "                fisher_allz[ip1p,ip2p] += fisher_iz[ip1,ip2,iz]\n",
    "    # insert sigma(tau)^-1 = 0.0\n",
    "    indx_tau = 6\n",
    "    fisher_allz = np.insert(np.insert(fisher_allz,indx_tau,0,axis=0),indx_tau,0,axis=1)\n",
    "    return fisher_allz\n",
    "\n",
    "# def fisher_merge(fisher_iz,nz):\n",
    "#     nparam_allz = 6+nz\n",
    "#     fisher_allz = np.zeros((nparam_allz,nparam_allz))\n",
    "#     for iz in range(nz):\n",
    "#         for ip1 in range(7):\n",
    "#             ip1p = ip1\n",
    "#             if ip1 > 5: ip1p = ip1+iz\n",
    "#             for ip2 in range(7):\n",
    "#                 ip2p = ip2\n",
    "#                 if ip2 > 5: ip2p = ip2+iz\n",
    "#                 fisher_allz[ip1p,ip2p] += fisher_iz[ip1,ip2,iz]\n",
    "#     # insert sigma(tau)^-1 = 0.0\n",
    "#     indx_tau = 6\n",
    "#     fisher_allz = np.insert(np.insert(fisher_allz,indx_tau,0,axis=0),indx_tau,0,axis=1)\n",
    "#     return fisher_allz"
   ]
  },
  {
   "cell_type": "code",
   "execution_count": 133,
   "metadata": {
    "ExecuteTime": {
     "end_time": "2020-02-25T06:00:46.445392Z",
     "start_time": "2020-02-25T06:00:46.428987Z"
    },
    "collapsed": true
   },
   "outputs": [],
   "source": [
    "cmb_prior1 = np.loadtxt('./fisher_planck+BOSS+Bispec.dat')\n",
    "cmb_prior2 = np.loadtxt('./fisher_planck18_BOSS_mnu.dat')\n",
    "np.savetxt('./fisher_Bispec.dat',cmb_prior1-cmb_prior2)"
   ]
  },
  {
   "cell_type": "code",
   "execution_count": 140,
   "metadata": {
    "ExecuteTime": {
     "end_time": "2020-02-25T06:02:29.900916Z",
     "start_time": "2020-02-25T06:02:29.761655Z"
    },
    "collapsed": true
   },
   "outputs": [],
   "source": [
    "nz = 7\n",
    "# cmb_prior = np.loadtxt('./fisher_planck+BOSS+Bispec.dat')\n",
    "cmb_prior = np.loadtxt('./fisher_planck18_BOSS_mnu.dat')\n",
    "bispec_prior = np.loadtxt('./fisher_Bispec.dat')\n",
    "hsc_prior = np.loadtxt('./fisher_hsc_auto.dat')\n",
    "\n",
    "# fisher_prior = np.loadtxt('./fisher_planck18_mnu.dat')\n",
    "# fisher_prior = np.loadtxt('./fisher_planck15_mnu.dat')\n",
    "\n",
    "sigma_mnu = np.zeros(10)\n",
    "for i in range(10):\n",
    "    comp = 0.1+0.1*i\n",
    "    fisher_iz = np.zeros((9,9,nz))\n",
    "    fisher_prior = cmb_prior+bispec_prior*comp #+hsc_prior\n",
    "    for iz in range(nz):\n",
    "        fisher_iz[:,:,iz] = np.loadtxt(HOMEDIR+'/pfs/fisher_comp'+'{:0.2f}'.format(comp)+'_iz'+str(iz)+'_ngal0p5.txt')\n",
    "    fisher_allz = fisher_merge(fisher_iz,nz)\n",
    "    tot = fisher_allz+fisher_prior\n",
    "    inv_f = np.linalg.inv(tot)\n",
    "    err = np.sqrt(np.diag(inv_f))\n",
    "    sigma_mnu[i] = err[5]\n",
    "    \n",
    "sigma_mnu_full = np.zeros(10)\n",
    "for i in range(10):\n",
    "    comp = 0.1+0.1*i\n",
    "    fisher_iz = np.zeros((9,9,nz))\n",
    "    for iz in range(nz):\n",
    "        fisher_iz[:,:,iz] = np.loadtxt(HOMEDIR+'/pfs/fisher_comp'+'{:0.2f}'.format(comp)+'_iz'+str(iz)+'.txt')\n",
    "    fisher_allz = fisher_merge(fisher_iz,nz)\n",
    "    tot = fisher_allz+fisher_prior\n",
    "    inv_f = np.linalg.inv(tot)\n",
    "    err = np.sqrt(np.diag(inv_f))\n",
    "    sigma_mnu_full[i] = err[5]\n",
    "    \n",
    "sigma_mnu_desi = np.zeros(5)\n",
    "nz_desi = 5\n",
    "# fisher_prior_desi = np.loadtxt('./fisher_planck18_mnu.dat')[:7+3*nz_desi,:7+3*nz_desi]\n",
    "fisher_prior_desi = np.loadtxt('./fisher_planck18_BOSS_mnu.dat')[:7+3*nz_desi,:7+3*nz_desi]\n",
    "# fisher_prior_desi += hsc_prior[:7+3*nz_desi,:7+3*nz_desi]\n",
    "for i in range(5):\n",
    "    comp = 0.2+0.2*i\n",
    "    fisher_iz = np.zeros((9,9,nz_desi))\n",
    "    for iz in range(nz_desi):\n",
    "        fisher_iz[:,:,iz] = np.loadtxt(HOMEDIR+'/desi/fisher_comp'+'{:0.2f}'.format(comp)+'_iz'+str(iz)+'.txt')\n",
    "    fisher_allz = fisher_merge(fisher_iz,nz_desi)\n",
    "    tot = fisher_allz+fisher_prior_desi\n",
    "    inv_f = np.linalg.inv(tot)\n",
    "    err = np.sqrt(np.diag(inv_f))\n",
    "    sigma_mnu_desi[i] = err[5]"
   ]
  },
  {
   "cell_type": "code",
   "execution_count": 141,
   "metadata": {
    "ExecuteTime": {
     "end_time": "2020-02-25T06:02:34.409897Z",
     "start_time": "2020-02-25T06:02:34.402569Z"
    }
   },
   "outputs": [
    {
     "name": "stdout",
     "output_type": "stream",
     "text": [
      "[0.03833218 0.034907   0.03270962 0.03114522 0.02996404 0.0290374\n",
      " 0.02829049 0.0276762  0.02716309 0.02672925]\n",
      "[0.03328036 0.02936086 0.02715657 0.02570844 0.02466949]\n"
     ]
    }
   ],
   "source": [
    "# comp_arr = np.array([0.1+0.1*x for x in range(10)])\n",
    "# comp_arr_desi = np.array([0.2+0.2*x for x in range(5)])\n",
    "# plt.plot(comp_arr,sigma_mnu)\n",
    "# # plt.plot(comp_arr,sigma_mnu_full,'--')\n",
    "# plt.plot(comp_arr_desi,sigma_mnu_desi,'--')\n",
    "print(sigma_mnu)\n",
    "print(sigma_mnu_desi)\n",
    "np.savetxt('./sigma_mnu_pfs_ng0p5.txt',np.c_[comp_arr,sigma_mnu])\n",
    "np.savetxt('./sigma_mnu_desi.txt',np.c_[comp_arr_desi,sigma_mnu_desi])"
   ]
  },
  {
   "cell_type": "markdown",
   "metadata": {},
   "source": [
    "# sigma(Mnu) vs yr"
   ]
  },
  {
   "cell_type": "code",
   "execution_count": 142,
   "metadata": {
    "ExecuteTime": {
     "end_time": "2020-02-25T06:02:36.737622Z",
     "start_time": "2020-02-25T06:02:36.734872Z"
    },
    "collapsed": true
   },
   "outputs": [],
   "source": [
    "YABESIMDIR = (os.path.expanduser('~'))+'/Dropbox/pfs_sims_for_sac_202002'"
   ]
  },
  {
   "cell_type": "code",
   "execution_count": 143,
   "metadata": {
    "ExecuteTime": {
     "end_time": "2020-02-25T06:02:37.094058Z",
     "start_time": "2020-02-25T06:02:37.089808Z"
    },
    "collapsed": true
   },
   "outputs": [],
   "source": [
    "# pfs\n",
    "tmp = np.loadtxt('./sigma_mnu_pfs_ng0p5.txt')\n",
    "pfs = ip.interp1d(tmp[:,0],tmp[:,1],fill_value='extrapolate')\n",
    "\n",
    "# desi\n",
    "desi = np.loadtxt('./sigma_mnu_desi.txt')"
   ]
  },
  {
   "cell_type": "code",
   "execution_count": 152,
   "metadata": {
    "ExecuteTime": {
     "end_time": "2020-02-25T06:15:51.839657Z",
     "start_time": "2020-02-25T06:15:51.103815Z"
    }
   },
   "outputs": [
    {
     "data": {
      "image/png": "[encoded data removed]",
      "text/plain": [
       "<Figure size 576x288 with 1 Axes>"
      ]
     },
     "metadata": {
      "image/png": {
       "height": 286,
       "width": 533
      },
      "needs_background": "light"
     },
     "output_type": "display_data"
    }
   ],
   "source": [
    "fig,ax = plt.subplots(figsize=(8,4))\n",
    "\n",
    "# mnu threshold\n",
    "plt.plot([2020,2027],[0.02,0.02],'k--')\n",
    "\n",
    "# PFS\n",
    "# # for S22B case\n",
    "# model_name_arr = ['/pfs_survey_co_area_completeness_idl_4yr_360nights_co+ga_dwarfs+ge_hscd2_pri.dat',\\\n",
    "#                   '/pfs_survey_co_area_completeness_idl_5yr_360nights_co+ga_dwarfs+ge_hscd2_pri.dat',\\\n",
    "#                   '/pfs_survey_co_area_completeness_idl_4yr_360nights.dat',\\\n",
    "#                   '/pfs_survey_co_area_completeness_idl_5yr_360nights.dat']\n",
    "# label_arr = ['PFS,4yr,S22B','PFS,5yr,S22B','PFS,4yr,S22B, no front-loading','PFS,5yr,S22B, no front-loading']\n",
    "\n",
    "# for S23A case\n",
    "model_name_arr = ['/pfs_survey_co_area_completeness_s23a_idl_4yr_360nights_co+ga_dwarfs+ge_hscd2_pri.dat',\\\n",
    "                  '/pfs_survey_co_area_completeness_s23a_idl_5yr_360nights_co+ga_dwarfs+ge_hscd2_pri.dat',\\\n",
    "                  '/pfs_survey_co_area_completeness_s23a_idl_4yr_360nights.dat',\\\n",
    "                  '/pfs_survey_co_area_completeness_s23a_idl_5yr_360nights.dat']\n",
    "label_arr = ['PFS,4yr,S23A','PFS,5yr,S23A','PFS,4yr,S23A, no front-loading','PFS,5yr,S23A, no front-loading']\n",
    "\n",
    "for i in range(4):\n",
    "    pfs_comp = np.loadtxt(YABESIMDIR+model_name_arr[i])\n",
    "    if i < 2:\n",
    "        plt.plot(pfs_comp[:,0],pfs(pfs_comp[:,1]),label=label_arr[i])\n",
    "    else:\n",
    "        plt.plot(pfs_comp[:,0],pfs(pfs_comp[:,1]),'--',label=label_arr[i])\n",
    "\n",
    "# DESI\n",
    "desi_s = 2021.500 # DESI 1st yr\n",
    "desi_arr = np.array([desi_s+1.000*i for i in range(5)])\n",
    "plt.plot(desi_arr,desi[:,1],label='DESI')\n",
    "\n",
    "\n",
    "# set ticks and labels\n",
    "ticks = (2020,2021,2022,2023,2024,2025,2026)\n",
    "ax.set_xticks(np.linspace(2020,2027,8),minor=False)\n",
    "ax.set_xticks(np.linspace(2020,2027,85),minor=True)\n",
    "labels = ('2020/01','2021/01','2022/01','2023/01','2024/01','2025/01','2026/01','2027/01')\n",
    "ax.set_xticklabels(labels,fontsize=12,rotation=45)\n",
    "ax.set_xticklabels(labels,minor=False)\n",
    "ax.set_xticklabels([''],minor=True)\n",
    "ax.set_ylabel(r'$\\sigma(\\Sigma m_\\nu)$')\n",
    "\n",
    "# set plot rangge\n",
    "ax.set_xlim((2021,2026))\n",
    "# ax.set_ylim((0.017,0.025))\n",
    "# ax.set_ylim((0.017,0.05))\n",
    "ax.set_ylim((0.025,0.04))\n",
    "\n",
    "ax.legend()\n",
    "\n",
    "plt.savefig('./pfs_vs_desi_S23A.pdf')"
   ]
  },
  {
   "cell_type": "code",
   "execution_count": null,
   "metadata": {
    "collapsed": true
   },
   "outputs": [],
   "source": []
  }
 ],
 "metadata": {
  "kernelspec": {
   "display_name": "Python 3",
   "language": "python",
   "name": "python3"
  },
  "language_info": {
   "codemirror_mode": {
    "name": "ipython",
    "version": 3
   },
   "file_extension": ".py",
   "mimetype": "text/x-python",
   "name": "python",
   "nbconvert_exporter": "python",
   "pygments_lexer": "ipython3",
   "version": "3.5.2"
  },
  "toc": {
   "colors": {
    "hover_highlight": "#DAA520",
    "navigate_num": "#000000",
    "navigate_text": "#333333",
    "running_highlight": "#FF0000",
    "selected_highlight": "#FFD700",
    "sidebar_border": "#EEEEEE",
    "wrapper_background": "#FFFFFF"
   },
   "moveMenuLeft": true,
   "nav_menu": {
    "height": "12px",
    "width": "252px"
   },
   "navigate_menu": true,
   "number_sections": true,
   "sideBar": true,
   "threshold": 4,
   "toc_cell": false,
   "toc_section_display": "block",
   "toc_window_display": true,
   "widenNotebook": false
  }
 },
 "nbformat": 4,
 "nbformat_minor": 2
}
